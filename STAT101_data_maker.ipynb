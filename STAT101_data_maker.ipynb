{
  "nbformat": 4,
  "nbformat_minor": 0,
  "metadata": {
    "colab": {
      "provenance": [],
      "collapsed_sections": [],
      "authorship_tag": "ABX9TyOpi7fPXX/DtJuPPZh79GmY",
      "include_colab_link": true
    },
    "kernelspec": {
      "name": "python3",
      "display_name": "Python 3"
    },
    "language_info": {
      "name": "python"
    }
  },
  "cells": [
    {
      "cell_type": "markdown",
      "metadata": {
        "id": "view-in-github",
        "colab_type": "text"
      },
      "source": [
        "<a href=\"https://colab.research.google.com/github/andersonmdcanteli/STAT-101-page/blob/main/STAT101_data_maker.ipynb\" target=\"_parent\"><img src=\"https://colab.research.google.com/assets/colab-badge.svg\" alt=\"Open In Colab\"/></a>"
      ]
    },
    {
      "cell_type": "markdown",
      "source": [
        "## Imports"
      ],
      "metadata": {
        "id": "A8UIAsSlpUNZ"
      }
    },
    {
      "cell_type": "code",
      "execution_count": 1,
      "metadata": {
        "id": "j3uRTtla2vUo"
      },
      "outputs": [],
      "source": [
        "import numpy as np\n",
        "import scipy.stats as stats\n",
        "import matplotlib.pyplot as plt\n",
        "import seaborn as sns\n",
        "import pandas as pd"
      ]
    },
    {
      "cell_type": "code",
      "source": [
        "!pip install pycafee"
      ],
      "metadata": {
        "colab": {
          "base_uri": "https://localhost:8080/"
        },
        "id": "PcZdoUAY1EwT",
        "outputId": "891e7304-a869-4fb0-d3ff-dc5aa51fa8e6"
      },
      "execution_count": 2,
      "outputs": [
        {
          "output_type": "stream",
          "name": "stdout",
          "text": [
            "Looking in indexes: https://pypi.org/simple, https://us-python.pkg.dev/colab-wheels/public/simple/\n",
            "Requirement already satisfied: pycafee in /usr/local/lib/python3.7/dist-packages (0.0.7)\n",
            "Requirement already satisfied: pandas==1.3.5 in /usr/local/lib/python3.7/dist-packages (from pycafee) (1.3.5)\n",
            "Requirement already satisfied: tabulate==0.8.9 in /usr/local/lib/python3.7/dist-packages (from pycafee) (0.8.9)\n",
            "Requirement already satisfied: colorama==0.4.4 in /usr/local/lib/python3.7/dist-packages (from pycafee) (0.4.4)\n",
            "Requirement already satisfied: matplotlib==3.2.2 in /usr/local/lib/python3.7/dist-packages (from pycafee) (3.2.2)\n",
            "Requirement already satisfied: openpyxl==3.0.10 in /usr/local/lib/python3.7/dist-packages (from pycafee) (3.0.10)\n",
            "Requirement already satisfied: scipy==1.4.1 in /usr/local/lib/python3.7/dist-packages (from pycafee) (1.4.1)\n",
            "Requirement already satisfied: numpy==1.21.6 in /usr/local/lib/python3.7/dist-packages (from pycafee) (1.21.6)\n",
            "Requirement already satisfied: statsmodels==0.11.0 in /usr/local/lib/python3.7/dist-packages (from pycafee) (0.11.0)\n",
            "Requirement already satisfied: pyparsing!=2.0.4,!=2.1.2,!=2.1.6,>=2.0.1 in /usr/local/lib/python3.7/dist-packages (from matplotlib==3.2.2->pycafee) (3.0.9)\n",
            "Requirement already satisfied: cycler>=0.10 in /usr/local/lib/python3.7/dist-packages (from matplotlib==3.2.2->pycafee) (0.11.0)\n",
            "Requirement already satisfied: kiwisolver>=1.0.1 in /usr/local/lib/python3.7/dist-packages (from matplotlib==3.2.2->pycafee) (1.4.4)\n",
            "Requirement already satisfied: python-dateutil>=2.1 in /usr/local/lib/python3.7/dist-packages (from matplotlib==3.2.2->pycafee) (2.8.2)\n",
            "Requirement already satisfied: et-xmlfile in /usr/local/lib/python3.7/dist-packages (from openpyxl==3.0.10->pycafee) (1.1.0)\n",
            "Requirement already satisfied: pytz>=2017.3 in /usr/local/lib/python3.7/dist-packages (from pandas==1.3.5->pycafee) (2022.2.1)\n",
            "Requirement already satisfied: patsy>=0.5 in /usr/local/lib/python3.7/dist-packages (from statsmodels==0.11.0->pycafee) (0.5.2)\n",
            "Requirement already satisfied: typing-extensions in /usr/local/lib/python3.7/dist-packages (from kiwisolver>=1.0.1->matplotlib==3.2.2->pycafee) (4.1.1)\n",
            "Requirement already satisfied: six in /usr/local/lib/python3.7/dist-packages (from patsy>=0.5->statsmodels==0.11.0->pycafee) (1.15.0)\n"
          ]
        }
      ]
    },
    {
      "cell_type": "code",
      "source": [
        "from pycafee.functions.functions import multimode\n",
        "from pycafee.normalitycheck import ShapiroWilk"
      ],
      "metadata": {
        "id": "dowu2RU71Yci"
      },
      "execution_count": 3,
      "outputs": []
    },
    {
      "cell_type": "markdown",
      "source": [
        "## Dataset"
      ],
      "metadata": {
        "id": "6STACHgspXJR"
      }
    },
    {
      "cell_type": "code",
      "source": [
        "iris = sns.load_dataset('iris')"
      ],
      "metadata": {
        "id": "L3QZqQgj2wQi"
      },
      "execution_count": 4,
      "outputs": []
    },
    {
      "cell_type": "code",
      "source": [
        "iris.head(2)"
      ],
      "metadata": {
        "colab": {
          "base_uri": "https://localhost:8080/",
          "height": 112
        },
        "id": "x8RFGbpx20i5",
        "outputId": "529cc08c-93ed-4d32-8cd7-b3da49cc3a6f"
      },
      "execution_count": 5,
      "outputs": [
        {
          "output_type": "execute_result",
          "data": {
            "text/plain": [
              "   sepal_length  sepal_width  petal_length  petal_width species\n",
              "0           5.1          3.5           1.4          0.2  setosa\n",
              "1           4.9          3.0           1.4          0.2  setosa"
            ],
            "text/html": [
              "\n",
              "  <div id=\"df-e9f60e92-0927-4c62-872b-321857763095\">\n",
              "    <div class=\"colab-df-container\">\n",
              "      <div>\n",
              "<style scoped>\n",
              "    .dataframe tbody tr th:only-of-type {\n",
              "        vertical-align: middle;\n",
              "    }\n",
              "\n",
              "    .dataframe tbody tr th {\n",
              "        vertical-align: top;\n",
              "    }\n",
              "\n",
              "    .dataframe thead th {\n",
              "        text-align: right;\n",
              "    }\n",
              "</style>\n",
              "<table border=\"1\" class=\"dataframe\">\n",
              "  <thead>\n",
              "    <tr style=\"text-align: right;\">\n",
              "      <th></th>\n",
              "      <th>sepal_length</th>\n",
              "      <th>sepal_width</th>\n",
              "      <th>petal_length</th>\n",
              "      <th>petal_width</th>\n",
              "      <th>species</th>\n",
              "    </tr>\n",
              "  </thead>\n",
              "  <tbody>\n",
              "    <tr>\n",
              "      <th>0</th>\n",
              "      <td>5.1</td>\n",
              "      <td>3.5</td>\n",
              "      <td>1.4</td>\n",
              "      <td>0.2</td>\n",
              "      <td>setosa</td>\n",
              "    </tr>\n",
              "    <tr>\n",
              "      <th>1</th>\n",
              "      <td>4.9</td>\n",
              "      <td>3.0</td>\n",
              "      <td>1.4</td>\n",
              "      <td>0.2</td>\n",
              "      <td>setosa</td>\n",
              "    </tr>\n",
              "  </tbody>\n",
              "</table>\n",
              "</div>\n",
              "      <button class=\"colab-df-convert\" onclick=\"convertToInteractive('df-e9f60e92-0927-4c62-872b-321857763095')\"\n",
              "              title=\"Convert this dataframe to an interactive table.\"\n",
              "              style=\"display:none;\">\n",
              "        \n",
              "  <svg xmlns=\"http://www.w3.org/2000/svg\" height=\"24px\"viewBox=\"0 0 24 24\"\n",
              "       width=\"24px\">\n",
              "    <path d=\"M0 0h24v24H0V0z\" fill=\"none\"/>\n",
              "    <path d=\"M18.56 5.44l.94 2.06.94-2.06 2.06-.94-2.06-.94-.94-2.06-.94 2.06-2.06.94zm-11 1L8.5 8.5l.94-2.06 2.06-.94-2.06-.94L8.5 2.5l-.94 2.06-2.06.94zm10 10l.94 2.06.94-2.06 2.06-.94-2.06-.94-.94-2.06-.94 2.06-2.06.94z\"/><path d=\"M17.41 7.96l-1.37-1.37c-.4-.4-.92-.59-1.43-.59-.52 0-1.04.2-1.43.59L10.3 9.45l-7.72 7.72c-.78.78-.78 2.05 0 2.83L4 21.41c.39.39.9.59 1.41.59.51 0 1.02-.2 1.41-.59l7.78-7.78 2.81-2.81c.8-.78.8-2.07 0-2.86zM5.41 20L4 18.59l7.72-7.72 1.47 1.35L5.41 20z\"/>\n",
              "  </svg>\n",
              "      </button>\n",
              "      \n",
              "  <style>\n",
              "    .colab-df-container {\n",
              "      display:flex;\n",
              "      flex-wrap:wrap;\n",
              "      gap: 12px;\n",
              "    }\n",
              "\n",
              "    .colab-df-convert {\n",
              "      background-color: #E8F0FE;\n",
              "      border: none;\n",
              "      border-radius: 50%;\n",
              "      cursor: pointer;\n",
              "      display: none;\n",
              "      fill: #1967D2;\n",
              "      height: 32px;\n",
              "      padding: 0 0 0 0;\n",
              "      width: 32px;\n",
              "    }\n",
              "\n",
              "    .colab-df-convert:hover {\n",
              "      background-color: #E2EBFA;\n",
              "      box-shadow: 0px 1px 2px rgba(60, 64, 67, 0.3), 0px 1px 3px 1px rgba(60, 64, 67, 0.15);\n",
              "      fill: #174EA6;\n",
              "    }\n",
              "\n",
              "    [theme=dark] .colab-df-convert {\n",
              "      background-color: #3B4455;\n",
              "      fill: #D2E3FC;\n",
              "    }\n",
              "\n",
              "    [theme=dark] .colab-df-convert:hover {\n",
              "      background-color: #434B5C;\n",
              "      box-shadow: 0px 1px 3px 1px rgba(0, 0, 0, 0.15);\n",
              "      filter: drop-shadow(0px 1px 2px rgba(0, 0, 0, 0.3));\n",
              "      fill: #FFFFFF;\n",
              "    }\n",
              "  </style>\n",
              "\n",
              "      <script>\n",
              "        const buttonEl =\n",
              "          document.querySelector('#df-e9f60e92-0927-4c62-872b-321857763095 button.colab-df-convert');\n",
              "        buttonEl.style.display =\n",
              "          google.colab.kernel.accessAllowed ? 'block' : 'none';\n",
              "\n",
              "        async function convertToInteractive(key) {\n",
              "          const element = document.querySelector('#df-e9f60e92-0927-4c62-872b-321857763095');\n",
              "          const dataTable =\n",
              "            await google.colab.kernel.invokeFunction('convertToInteractive',\n",
              "                                                     [key], {});\n",
              "          if (!dataTable) return;\n",
              "\n",
              "          const docLinkHtml = 'Like what you see? Visit the ' +\n",
              "            '<a target=\"_blank\" href=https://colab.research.google.com/notebooks/data_table.ipynb>data table notebook</a>'\n",
              "            + ' to learn more about interactive tables.';\n",
              "          element.innerHTML = '';\n",
              "          dataTable['output_type'] = 'display_data';\n",
              "          await google.colab.output.renderOutput(dataTable, element);\n",
              "          const docLink = document.createElement('div');\n",
              "          docLink.innerHTML = docLinkHtml;\n",
              "          element.appendChild(docLink);\n",
              "        }\n",
              "      </script>\n",
              "    </div>\n",
              "  </div>\n",
              "  "
            ]
          },
          "metadata": {},
          "execution_count": 5
        }
      ]
    },
    {
      "cell_type": "code",
      "source": [
        "iris.to_csv(\"iris_dataset.csv\", index=False)"
      ],
      "metadata": {
        "id": "1ySnNmor22uR"
      },
      "execution_count": 6,
      "outputs": []
    },
    {
      "cell_type": "markdown",
      "source": [
        "## Making center and dispersion data for each n"
      ],
      "metadata": {
        "id": "kEfFcR88pcdx"
      }
    },
    {
      "cell_type": "code",
      "source": [
        "def get_ic(n, std, alfa):\n",
        "  t_critico = stats.t.ppf(1-alfa/2, n-1)\n",
        "  return t_critico*std/np.sqrt(n)"
      ],
      "metadata": {
        "id": "LY22jxf36Ayo"
      },
      "execution_count": 7,
      "outputs": []
    },
    {
      "cell_type": "code",
      "source": [
        "def make_data(df, name, name_list, species_name, species_list, n_list, media_list, median_list, mode_list, std_list, ic_90_list, ic_95_list, ic_99_list, cv_list, norm_list):\n",
        "  df_filtered = df.copy()\n",
        "  for n in range(1,df_filtered.shape[0]+1):\n",
        "    species_list.append(species_name)\n",
        "    name_list.append(name)\n",
        "    n_list.append(n)\n",
        "    data = df_filtered[:n].to_numpy()\n",
        "    media = data.mean()\n",
        "    media_list.append(str(round(media,3)))\n",
        "    median = np.median(data)\n",
        "    median_list.append(str(round(median,3)))\n",
        "    mode = multimode(data)\n",
        "    mode_value = \"\"\n",
        "    for key in mode.keys():\n",
        "      mode_value += str(key) + \" & \"\n",
        "    if n == 1:\n",
        "      mode_list.append(str(round(media,3)))\n",
        "    else:\n",
        "      mode_list.append(mode_value[:-2])\n",
        "\n",
        "    if n > 1:\n",
        "      std = data.std(ddof=1)\n",
        "      std_list.append(str(round(std,3)))\n",
        "      ic_90 = get_ic(n, std, 0.1)\n",
        "      ic_90_list.append(str(round(ic_90,3)))\n",
        "      ic_95 = get_ic(n, std, 0.05)\n",
        "      ic_95_list.append(str(round(ic_95,3)))\n",
        "      ic_99 = get_ic(n, std, 0.01)\n",
        "      ic_99_list.append(str(round(ic_99,3)))\n",
        "      cv = 100*std/media\n",
        "      cv_list.append(str(round(cv,2)))\n",
        "    else:\n",
        "      std_list.append(\"-\")\n",
        "      ic_90_list.append(\"-\")\n",
        "      ic_95_list.append(\"-\")\n",
        "      ic_99_list.append(\"-\")    \n",
        "      cv_list.append(\"-\")\n",
        "\n",
        "    if n > 2:\n",
        "      norm_test = ShapiroWilk()\n",
        "      norm_result, conclusion = norm_test.fit(data, details='binary')\n",
        "      if conclusion == 0:\n",
        "        conclusion = \"Sim\"\n",
        "      else:\n",
        "        conclusion = \"Não\"\n",
        "    else:\n",
        "      conclusion = \"-\"\n",
        "    norm_list.append(conclusion)\n",
        "\n",
        "  return name_list, species_list, n_list, media_list, median_list, mode_list, std_list, ic_90_list, ic_95_list, ic_99_list, cv_list, norm_list\n",
        "\n",
        "\n"
      ],
      "metadata": {
        "id": "5jzDvsqV0Be5"
      },
      "execution_count": 8,
      "outputs": []
    },
    {
      "cell_type": "code",
      "source": [
        "species_list = []\n",
        "n_list = []\n",
        "media_list = []\n",
        "median_list = []\n",
        "mode_list = []\n",
        "std_list = []\n",
        "ic_90_list = []\n",
        "ic_95_list = []\n",
        "ic_99_list = []\n",
        "cv_list = []\n",
        "norm_list = []\n",
        "name_list = []"
      ],
      "metadata": {
        "id": "NSpC2ZAq0tgN"
      },
      "execution_count": 9,
      "outputs": []
    },
    {
      "cell_type": "markdown",
      "source": [
        "### Setosa"
      ],
      "metadata": {
        "id": "nyLfPM8ZqrHA"
      }
    },
    {
      "cell_type": "code",
      "source": [
        "species_name = \"setosa\"\n",
        "df_filter = iris[iris['species'] == species_name].copy()\n",
        "name = 'sepal_length'\n",
        "df_data = df_filter[name].copy()\n",
        "name_list, species_list, n_list, media_list, median_list, mode_list, std_list, ic_90_list, ic_95_list, ic_99_list, cv_list, norm_list = make_data(df_data, name, name_list, species_name, species_list, n_list, media_list, median_list, mode_list, std_list, ic_90_list, ic_95_list, ic_99_list, cv_list, norm_list)"
      ],
      "metadata": {
        "id": "5nV8qowT0q4k"
      },
      "execution_count": 10,
      "outputs": []
    },
    {
      "cell_type": "code",
      "source": [
        "name = 'sepal_width'\n",
        "df_data = df_filter[name].copy()\n",
        "name_list, species_list, n_list, media_list, median_list, mode_list, std_list, ic_90_list, ic_95_list, ic_99_list, cv_list, norm_list = make_data(df_data, name, name_list, species_name, species_list, n_list, media_list, median_list, mode_list, std_list, ic_90_list, ic_95_list, ic_99_list, cv_list, norm_list)"
      ],
      "metadata": {
        "id": "GirquYmDqkcw"
      },
      "execution_count": 11,
      "outputs": []
    },
    {
      "cell_type": "code",
      "source": [
        "name = 'petal_length'\n",
        "df_data = df_filter[name].copy()\n",
        "name_list, species_list, n_list, media_list, median_list, mode_list, std_list, ic_90_list, ic_95_list, ic_99_list, cv_list, norm_list = make_data(df_data, name, name_list, species_name, species_list, n_list, media_list, median_list, mode_list, std_list, ic_90_list, ic_95_list, ic_99_list, cv_list, norm_list)"
      ],
      "metadata": {
        "id": "vf_eMkCaqxTH"
      },
      "execution_count": 12,
      "outputs": []
    },
    {
      "cell_type": "code",
      "source": [
        "name = 'petal_width'\n",
        "df_data = df_filter[name].copy()\n",
        "name_list, species_list, n_list, media_list, median_list, mode_list, std_list, ic_90_list, ic_95_list, ic_99_list, cv_list, norm_list = make_data(df_data, name, name_list, species_name, species_list, n_list, media_list, median_list, mode_list, std_list, ic_90_list, ic_95_list, ic_99_list, cv_list, norm_list)"
      ],
      "metadata": {
        "colab": {
          "base_uri": "https://localhost:8080/"
        },
        "id": "qdhZjI6oqxdP",
        "outputId": "5fa066ca-b937-47c7-82ea-7837274d8741"
      },
      "execution_count": 13,
      "outputs": [
        {
          "output_type": "stream",
          "name": "stderr",
          "text": [
            "/usr/local/lib/python3.7/dist-packages/scipy/stats/morestats.py:1673: UserWarning: Input data for shapiro has range zero. The results may not be accurate.\n",
            "  warnings.warn(\"Input data for shapiro has range zero. The results \"\n"
          ]
        }
      ]
    },
    {
      "cell_type": "markdown",
      "source": [
        "### virginica"
      ],
      "metadata": {
        "id": "O_Qg2XijuNXr"
      }
    },
    {
      "cell_type": "code",
      "source": [
        "species_name = \"virginica\"\n",
        "df_filter = iris[iris['species'] == species_name].copy()\n",
        "name = 'sepal_length'\n",
        "df_data = df_filter[name].copy()\n",
        "name_list, species_list, n_list, media_list, median_list, mode_list, std_list, ic_90_list, ic_95_list, ic_99_list, cv_list, norm_list = make_data(df_data, name, name_list, species_name, species_list, n_list, media_list, median_list, mode_list, std_list, ic_90_list, ic_95_list, ic_99_list, cv_list, norm_list)"
      ],
      "metadata": {
        "id": "kzNSRZyvuNXs"
      },
      "execution_count": 14,
      "outputs": []
    },
    {
      "cell_type": "code",
      "source": [
        "name = 'sepal_width'\n",
        "df_data = df_filter[name].copy()\n",
        "name_list, species_list, n_list, media_list, median_list, mode_list, std_list, ic_90_list, ic_95_list, ic_99_list, cv_list, norm_list = make_data(df_data, name, name_list, species_name, species_list, n_list, media_list, median_list, mode_list, std_list, ic_90_list, ic_95_list, ic_99_list, cv_list, norm_list)"
      ],
      "metadata": {
        "id": "GDsTj8nbuNXs"
      },
      "execution_count": 15,
      "outputs": []
    },
    {
      "cell_type": "code",
      "source": [
        "name = 'petal_length'\n",
        "df_data = df_filter[name].copy()\n",
        "name_list, species_list, n_list, media_list, median_list, mode_list, std_list, ic_90_list, ic_95_list, ic_99_list, cv_list, norm_list = make_data(df_data, name, name_list, species_name, species_list, n_list, media_list, median_list, mode_list, std_list, ic_90_list, ic_95_list, ic_99_list, cv_list, norm_list)"
      ],
      "metadata": {
        "id": "hBbhv0McuNXs"
      },
      "execution_count": 16,
      "outputs": []
    },
    {
      "cell_type": "code",
      "source": [
        "name = 'petal_width'\n",
        "df_data = df_filter[name].copy()\n",
        "name_list, species_list, n_list, media_list, median_list, mode_list, std_list, ic_90_list, ic_95_list, ic_99_list, cv_list, norm_list = make_data(df_data, name, name_list, species_name, species_list, n_list, media_list, median_list, mode_list, std_list, ic_90_list, ic_95_list, ic_99_list, cv_list, norm_list)"
      ],
      "metadata": {
        "id": "zNArNiU2uNXs"
      },
      "execution_count": 17,
      "outputs": []
    },
    {
      "cell_type": "markdown",
      "source": [
        "### versicolor"
      ],
      "metadata": {
        "id": "aUnC-qqZuRRT"
      }
    },
    {
      "cell_type": "code",
      "source": [
        "species_name = \"versicolor\"\n",
        "df_filter = iris[iris['species'] == species_name].copy()\n",
        "name = 'sepal_length'\n",
        "df_data = df_filter[name].copy()\n",
        "name_list, species_list, n_list, media_list, median_list, mode_list, std_list, ic_90_list, ic_95_list, ic_99_list, cv_list, norm_list = make_data(df_data, name, name_list, species_name, species_list, n_list, media_list, median_list, mode_list, std_list, ic_90_list, ic_95_list, ic_99_list, cv_list, norm_list)"
      ],
      "metadata": {
        "id": "1CrzTakMuRRT"
      },
      "execution_count": 18,
      "outputs": []
    },
    {
      "cell_type": "code",
      "source": [
        "name = 'sepal_width'\n",
        "df_data = df_filter[name].copy()\n",
        "name_list, species_list, n_list, media_list, median_list, mode_list, std_list, ic_90_list, ic_95_list, ic_99_list, cv_list, norm_list = make_data(df_data, name, name_list, species_name, species_list, n_list, media_list, median_list, mode_list, std_list, ic_90_list, ic_95_list, ic_99_list, cv_list, norm_list)"
      ],
      "metadata": {
        "id": "7b2vcIIQuRRT"
      },
      "execution_count": 19,
      "outputs": []
    },
    {
      "cell_type": "code",
      "source": [
        "name = 'petal_length'\n",
        "df_data = df_filter[name].copy()\n",
        "name_list, species_list, n_list, media_list, median_list, mode_list, std_list, ic_90_list, ic_95_list, ic_99_list, cv_list, norm_list = make_data(df_data, name, name_list, species_name, species_list, n_list, media_list, median_list, mode_list, std_list, ic_90_list, ic_95_list, ic_99_list, cv_list, norm_list)"
      ],
      "metadata": {
        "id": "P_EQcw8-uRRT"
      },
      "execution_count": 20,
      "outputs": []
    },
    {
      "cell_type": "code",
      "source": [
        "name = 'petal_width'\n",
        "df_data = df_filter[name].copy()\n",
        "name_list, species_list, n_list, media_list, median_list, mode_list, std_list, ic_90_list, ic_95_list, ic_99_list, cv_list, norm_list = make_data(df_data, name, name_list, species_name, species_list, n_list, media_list, median_list, mode_list, std_list, ic_90_list, ic_95_list, ic_99_list, cv_list, norm_list)"
      ],
      "metadata": {
        "id": "ksAy4dWouRRU"
      },
      "execution_count": 21,
      "outputs": []
    },
    {
      "cell_type": "code",
      "source": [],
      "metadata": {
        "id": "h0p16Nl1uM_1"
      },
      "execution_count": 21,
      "outputs": []
    },
    {
      "cell_type": "code",
      "source": [],
      "metadata": {
        "id": "hKGWKD2buNC2"
      },
      "execution_count": 21,
      "outputs": []
    },
    {
      "cell_type": "code",
      "source": [
        "df = pd.DataFrame({\n",
        "    \"species\": species_list,\n",
        "    \"size\": n_list,\n",
        "    \"Média\": media_list,\n",
        "    \"Mediana\": median_list,\n",
        "    \"Moda\": mode_list,\n",
        "    \"Std\": std_list,\n",
        "    \"IC (90%)\": ic_90_list,\n",
        "    \"IC (95%)\": ic_95_list,\n",
        "    \"IC (99%)\": ic_99_list,\n",
        "    \"CV (%)\": cv_list,\n",
        "    \"Normalidade\": norm_list,\n",
        "    \"kind\": name_list,\n",
        "    \"data_set\": \"iris\"\n",
        "\n",
        "})\n",
        "df.head(10)"
      ],
      "metadata": {
        "colab": {
          "base_uri": "https://localhost:8080/",
          "height": 363
        },
        "id": "TykUpRp40M1p",
        "outputId": "2b30e29d-8c40-4e3b-e19a-5cb68bfd4fbf"
      },
      "execution_count": 22,
      "outputs": [
        {
          "output_type": "execute_result",
          "data": {
            "text/plain": [
              "  species  size  Média Mediana              Moda    Std IC (90%) IC (95%)  \\\n",
              "0  setosa     1    5.1     5.1               5.1      -        -        -   \n",
              "1  setosa     2    5.0     5.0             None   0.141    0.631    1.271   \n",
              "2  setosa     3    4.9     4.9             None     0.2    0.337    0.497   \n",
              "3  setosa     4  4.825     4.8             None   0.222    0.261    0.353   \n",
              "4  setosa     5   4.86     4.9             None   0.207    0.198    0.257   \n",
              "5  setosa     6   4.95    4.95             None   0.288    0.237    0.302   \n",
              "6  setosa     7    4.9     4.9              4.6   0.294    0.216    0.272   \n",
              "7  setosa     8  4.912    4.95        4.6 & 5.0   0.275    0.184     0.23   \n",
              "8  setosa     9  4.856     4.9        4.6 & 5.0   0.309    0.191    0.237   \n",
              "9  setosa    10   4.86     4.9  4.9 & 4.6 & 5.0   0.291    0.169    0.208   \n",
              "\n",
              "  IC (99%) CV (%) Normalidade          kind data_set  \n",
              "0        -      -           -  sepal_length     iris  \n",
              "1    6.366   2.83           -  sepal_length     iris  \n",
              "2    1.146   4.08         Sim  sepal_length     iris  \n",
              "3    0.648    4.6         Sim  sepal_length     iris  \n",
              "4    0.427   4.27         Sim  sepal_length     iris  \n",
              "5    0.474   5.82         Sim  sepal_length     iris  \n",
              "6    0.413   6.01         Sim  sepal_length     iris  \n",
              "7     0.34   5.59         Sim  sepal_length     iris  \n",
              "8    0.345   6.36         Sim  sepal_length     iris  \n",
              "9    0.299   5.99         Sim  sepal_length     iris  "
            ],
            "text/html": [
              "\n",
              "  <div id=\"df-df5ba96a-cef7-42c1-a5fb-b1e4763596be\">\n",
              "    <div class=\"colab-df-container\">\n",
              "      <div>\n",
              "<style scoped>\n",
              "    .dataframe tbody tr th:only-of-type {\n",
              "        vertical-align: middle;\n",
              "    }\n",
              "\n",
              "    .dataframe tbody tr th {\n",
              "        vertical-align: top;\n",
              "    }\n",
              "\n",
              "    .dataframe thead th {\n",
              "        text-align: right;\n",
              "    }\n",
              "</style>\n",
              "<table border=\"1\" class=\"dataframe\">\n",
              "  <thead>\n",
              "    <tr style=\"text-align: right;\">\n",
              "      <th></th>\n",
              "      <th>species</th>\n",
              "      <th>size</th>\n",
              "      <th>Média</th>\n",
              "      <th>Mediana</th>\n",
              "      <th>Moda</th>\n",
              "      <th>Std</th>\n",
              "      <th>IC (90%)</th>\n",
              "      <th>IC (95%)</th>\n",
              "      <th>IC (99%)</th>\n",
              "      <th>CV (%)</th>\n",
              "      <th>Normalidade</th>\n",
              "      <th>kind</th>\n",
              "      <th>data_set</th>\n",
              "    </tr>\n",
              "  </thead>\n",
              "  <tbody>\n",
              "    <tr>\n",
              "      <th>0</th>\n",
              "      <td>setosa</td>\n",
              "      <td>1</td>\n",
              "      <td>5.1</td>\n",
              "      <td>5.1</td>\n",
              "      <td>5.1</td>\n",
              "      <td>-</td>\n",
              "      <td>-</td>\n",
              "      <td>-</td>\n",
              "      <td>-</td>\n",
              "      <td>-</td>\n",
              "      <td>-</td>\n",
              "      <td>sepal_length</td>\n",
              "      <td>iris</td>\n",
              "    </tr>\n",
              "    <tr>\n",
              "      <th>1</th>\n",
              "      <td>setosa</td>\n",
              "      <td>2</td>\n",
              "      <td>5.0</td>\n",
              "      <td>5.0</td>\n",
              "      <td>None</td>\n",
              "      <td>0.141</td>\n",
              "      <td>0.631</td>\n",
              "      <td>1.271</td>\n",
              "      <td>6.366</td>\n",
              "      <td>2.83</td>\n",
              "      <td>-</td>\n",
              "      <td>sepal_length</td>\n",
              "      <td>iris</td>\n",
              "    </tr>\n",
              "    <tr>\n",
              "      <th>2</th>\n",
              "      <td>setosa</td>\n",
              "      <td>3</td>\n",
              "      <td>4.9</td>\n",
              "      <td>4.9</td>\n",
              "      <td>None</td>\n",
              "      <td>0.2</td>\n",
              "      <td>0.337</td>\n",
              "      <td>0.497</td>\n",
              "      <td>1.146</td>\n",
              "      <td>4.08</td>\n",
              "      <td>Sim</td>\n",
              "      <td>sepal_length</td>\n",
              "      <td>iris</td>\n",
              "    </tr>\n",
              "    <tr>\n",
              "      <th>3</th>\n",
              "      <td>setosa</td>\n",
              "      <td>4</td>\n",
              "      <td>4.825</td>\n",
              "      <td>4.8</td>\n",
              "      <td>None</td>\n",
              "      <td>0.222</td>\n",
              "      <td>0.261</td>\n",
              "      <td>0.353</td>\n",
              "      <td>0.648</td>\n",
              "      <td>4.6</td>\n",
              "      <td>Sim</td>\n",
              "      <td>sepal_length</td>\n",
              "      <td>iris</td>\n",
              "    </tr>\n",
              "    <tr>\n",
              "      <th>4</th>\n",
              "      <td>setosa</td>\n",
              "      <td>5</td>\n",
              "      <td>4.86</td>\n",
              "      <td>4.9</td>\n",
              "      <td>None</td>\n",
              "      <td>0.207</td>\n",
              "      <td>0.198</td>\n",
              "      <td>0.257</td>\n",
              "      <td>0.427</td>\n",
              "      <td>4.27</td>\n",
              "      <td>Sim</td>\n",
              "      <td>sepal_length</td>\n",
              "      <td>iris</td>\n",
              "    </tr>\n",
              "    <tr>\n",
              "      <th>5</th>\n",
              "      <td>setosa</td>\n",
              "      <td>6</td>\n",
              "      <td>4.95</td>\n",
              "      <td>4.95</td>\n",
              "      <td>None</td>\n",
              "      <td>0.288</td>\n",
              "      <td>0.237</td>\n",
              "      <td>0.302</td>\n",
              "      <td>0.474</td>\n",
              "      <td>5.82</td>\n",
              "      <td>Sim</td>\n",
              "      <td>sepal_length</td>\n",
              "      <td>iris</td>\n",
              "    </tr>\n",
              "    <tr>\n",
              "      <th>6</th>\n",
              "      <td>setosa</td>\n",
              "      <td>7</td>\n",
              "      <td>4.9</td>\n",
              "      <td>4.9</td>\n",
              "      <td>4.6</td>\n",
              "      <td>0.294</td>\n",
              "      <td>0.216</td>\n",
              "      <td>0.272</td>\n",
              "      <td>0.413</td>\n",
              "      <td>6.01</td>\n",
              "      <td>Sim</td>\n",
              "      <td>sepal_length</td>\n",
              "      <td>iris</td>\n",
              "    </tr>\n",
              "    <tr>\n",
              "      <th>7</th>\n",
              "      <td>setosa</td>\n",
              "      <td>8</td>\n",
              "      <td>4.912</td>\n",
              "      <td>4.95</td>\n",
              "      <td>4.6 &amp; 5.0</td>\n",
              "      <td>0.275</td>\n",
              "      <td>0.184</td>\n",
              "      <td>0.23</td>\n",
              "      <td>0.34</td>\n",
              "      <td>5.59</td>\n",
              "      <td>Sim</td>\n",
              "      <td>sepal_length</td>\n",
              "      <td>iris</td>\n",
              "    </tr>\n",
              "    <tr>\n",
              "      <th>8</th>\n",
              "      <td>setosa</td>\n",
              "      <td>9</td>\n",
              "      <td>4.856</td>\n",
              "      <td>4.9</td>\n",
              "      <td>4.6 &amp; 5.0</td>\n",
              "      <td>0.309</td>\n",
              "      <td>0.191</td>\n",
              "      <td>0.237</td>\n",
              "      <td>0.345</td>\n",
              "      <td>6.36</td>\n",
              "      <td>Sim</td>\n",
              "      <td>sepal_length</td>\n",
              "      <td>iris</td>\n",
              "    </tr>\n",
              "    <tr>\n",
              "      <th>9</th>\n",
              "      <td>setosa</td>\n",
              "      <td>10</td>\n",
              "      <td>4.86</td>\n",
              "      <td>4.9</td>\n",
              "      <td>4.9 &amp; 4.6 &amp; 5.0</td>\n",
              "      <td>0.291</td>\n",
              "      <td>0.169</td>\n",
              "      <td>0.208</td>\n",
              "      <td>0.299</td>\n",
              "      <td>5.99</td>\n",
              "      <td>Sim</td>\n",
              "      <td>sepal_length</td>\n",
              "      <td>iris</td>\n",
              "    </tr>\n",
              "  </tbody>\n",
              "</table>\n",
              "</div>\n",
              "      <button class=\"colab-df-convert\" onclick=\"convertToInteractive('df-df5ba96a-cef7-42c1-a5fb-b1e4763596be')\"\n",
              "              title=\"Convert this dataframe to an interactive table.\"\n",
              "              style=\"display:none;\">\n",
              "        \n",
              "  <svg xmlns=\"http://www.w3.org/2000/svg\" height=\"24px\"viewBox=\"0 0 24 24\"\n",
              "       width=\"24px\">\n",
              "    <path d=\"M0 0h24v24H0V0z\" fill=\"none\"/>\n",
              "    <path d=\"M18.56 5.44l.94 2.06.94-2.06 2.06-.94-2.06-.94-.94-2.06-.94 2.06-2.06.94zm-11 1L8.5 8.5l.94-2.06 2.06-.94-2.06-.94L8.5 2.5l-.94 2.06-2.06.94zm10 10l.94 2.06.94-2.06 2.06-.94-2.06-.94-.94-2.06-.94 2.06-2.06.94z\"/><path d=\"M17.41 7.96l-1.37-1.37c-.4-.4-.92-.59-1.43-.59-.52 0-1.04.2-1.43.59L10.3 9.45l-7.72 7.72c-.78.78-.78 2.05 0 2.83L4 21.41c.39.39.9.59 1.41.59.51 0 1.02-.2 1.41-.59l7.78-7.78 2.81-2.81c.8-.78.8-2.07 0-2.86zM5.41 20L4 18.59l7.72-7.72 1.47 1.35L5.41 20z\"/>\n",
              "  </svg>\n",
              "      </button>\n",
              "      \n",
              "  <style>\n",
              "    .colab-df-container {\n",
              "      display:flex;\n",
              "      flex-wrap:wrap;\n",
              "      gap: 12px;\n",
              "    }\n",
              "\n",
              "    .colab-df-convert {\n",
              "      background-color: #E8F0FE;\n",
              "      border: none;\n",
              "      border-radius: 50%;\n",
              "      cursor: pointer;\n",
              "      display: none;\n",
              "      fill: #1967D2;\n",
              "      height: 32px;\n",
              "      padding: 0 0 0 0;\n",
              "      width: 32px;\n",
              "    }\n",
              "\n",
              "    .colab-df-convert:hover {\n",
              "      background-color: #E2EBFA;\n",
              "      box-shadow: 0px 1px 2px rgba(60, 64, 67, 0.3), 0px 1px 3px 1px rgba(60, 64, 67, 0.15);\n",
              "      fill: #174EA6;\n",
              "    }\n",
              "\n",
              "    [theme=dark] .colab-df-convert {\n",
              "      background-color: #3B4455;\n",
              "      fill: #D2E3FC;\n",
              "    }\n",
              "\n",
              "    [theme=dark] .colab-df-convert:hover {\n",
              "      background-color: #434B5C;\n",
              "      box-shadow: 0px 1px 3px 1px rgba(0, 0, 0, 0.15);\n",
              "      filter: drop-shadow(0px 1px 2px rgba(0, 0, 0, 0.3));\n",
              "      fill: #FFFFFF;\n",
              "    }\n",
              "  </style>\n",
              "\n",
              "      <script>\n",
              "        const buttonEl =\n",
              "          document.querySelector('#df-df5ba96a-cef7-42c1-a5fb-b1e4763596be button.colab-df-convert');\n",
              "        buttonEl.style.display =\n",
              "          google.colab.kernel.accessAllowed ? 'block' : 'none';\n",
              "\n",
              "        async function convertToInteractive(key) {\n",
              "          const element = document.querySelector('#df-df5ba96a-cef7-42c1-a5fb-b1e4763596be');\n",
              "          const dataTable =\n",
              "            await google.colab.kernel.invokeFunction('convertToInteractive',\n",
              "                                                     [key], {});\n",
              "          if (!dataTable) return;\n",
              "\n",
              "          const docLinkHtml = 'Like what you see? Visit the ' +\n",
              "            '<a target=\"_blank\" href=https://colab.research.google.com/notebooks/data_table.ipynb>data table notebook</a>'\n",
              "            + ' to learn more about interactive tables.';\n",
              "          element.innerHTML = '';\n",
              "          dataTable['output_type'] = 'display_data';\n",
              "          await google.colab.output.renderOutput(dataTable, element);\n",
              "          const docLink = document.createElement('div');\n",
              "          docLink.innerHTML = docLinkHtml;\n",
              "          element.appendChild(docLink);\n",
              "        }\n",
              "      </script>\n",
              "    </div>\n",
              "  </div>\n",
              "  "
            ]
          },
          "metadata": {},
          "execution_count": 22
        }
      ]
    },
    {
      "cell_type": "code",
      "source": [
        "df.to_csv(\"iris_dataset_summary.csv\", index=False)"
      ],
      "metadata": {
        "id": "GKSslj5B5Jcv"
      },
      "execution_count": 23,
      "outputs": []
    },
    {
      "cell_type": "markdown",
      "source": [
        "## Animation dataset"
      ],
      "metadata": {
        "id": "KL0C35Jovl5f"
      }
    },
    {
      "cell_type": "code",
      "source": [
        "def make_animation_dataset(df_data, name, name_list, species_name, species_list, size_list, valores_list, medida_list, type_list):\n",
        "  df = df_data.copy()\n",
        "\n",
        "  for n in range(1, df.shape[0]+1):\n",
        "\n",
        "    data = df[:n].to_numpy()\n",
        "\n",
        "    # média\n",
        "    media = data.mean()\n",
        "    valores_list.append(media)\n",
        "    medida_list.append(\"Média\")\n",
        "    size_list.append(n)  \n",
        "    name_list.append(name)\n",
        "    species_list.append(species_name)\n",
        "    type_list.append(\"central\")\n",
        "\n",
        "    # mediana\n",
        "    median = np.median(data)\n",
        "    valores_list.append(median)\n",
        "    medida_list.append(\"Mediana\")\n",
        "    size_list.append(n)  \n",
        "    name_list.append(name)\n",
        "    species_list.append(species_name)\n",
        "    type_list.append(\"central\")\n",
        "\n",
        "    # meddias que para n = 1 não tem valor\n",
        "    if n == 1:\n",
        "      valores_list.append(0)\n",
        "      medida_list.append(\"Desvio Padrão\")\n",
        "      size_list.append(n)  \n",
        "      name_list.append(name)\n",
        "      species_list.append(species_name)\n",
        "      type_list.append(\"dispersao\")\n",
        "\n",
        "      valores_list.append(0)\n",
        "      medida_list.append(\"IC (90%)\")  \n",
        "      size_list.append(n)  \n",
        "      name_list.append(name)    \n",
        "      species_list.append(species_name)\n",
        "      type_list.append(\"dispersao\")\n",
        "\n",
        "      valores_list.append(0)\n",
        "      medida_list.append(\"IC (95%)\")    \n",
        "      size_list.append(n)  \n",
        "      name_list.append(name)    \n",
        "      species_list.append(species_name)\n",
        "      type_list.append(\"dispersao\")\n",
        "\n",
        "      valores_list.append(0)\n",
        "      medida_list.append(\"IC (99%)\")    \n",
        "      size_list.append(n)  \n",
        "      name_list.append(name)    \n",
        "      species_list.append(species_name)\n",
        "      type_list.append(\"dispersao\")\n",
        "\n",
        "      valores_list.append(0)\n",
        "      medida_list.append(\"CV (%)\")    \n",
        "      size_list.append(n)  \n",
        "      name_list.append(name)    \n",
        "      species_list.append(species_name)\n",
        "      type_list.append(\"cv\")\n",
        "\n",
        "    else:\n",
        "      std = data.std(ddof=1)\n",
        "      valores_list.append(std)\n",
        "      medida_list.append(\"Desvio Padrão\")\n",
        "      size_list.append(n)  \n",
        "      name_list.append(name)\n",
        "      species_list.append(species_name)\n",
        "      type_list.append(\"dispersao\")\n",
        "      \n",
        "      ic_90 = get_ic(n, std, 0.1)\n",
        "      valores_list.append(ic_90)\n",
        "      medida_list.append(\"IC (90%)\")\n",
        "      size_list.append(n)  \n",
        "      name_list.append(name)\n",
        "      species_list.append(species_name)\n",
        "      type_list.append(\"dispersao\")\n",
        "\n",
        "      ic_95 = get_ic(n, std, 0.05)\n",
        "      valores_list.append(ic_95)\n",
        "      medida_list.append(\"IC (95%)\")\n",
        "      size_list.append(n)  \n",
        "      name_list.append(name)\n",
        "      species_list.append(species_name)\n",
        "      type_list.append(\"dispersao\")\n",
        "\n",
        "      ic_99 = get_ic(n, std, 0.01)\n",
        "      valores_list.append(ic_99)\n",
        "      medida_list.append(\"IC (99%)\")\n",
        "      size_list.append(n)  \n",
        "      name_list.append(name)\n",
        "      species_list.append(species_name)\n",
        "      type_list.append(\"dispersao\")\n",
        "      \n",
        "      size_list.append(n)  \n",
        "      name_list.append(name)\n",
        "      cv = 100*std/media\n",
        "      valores_list.append(cv)\n",
        "      medida_list.append(\"CV (%)\")\n",
        "      species_list.append(species_name)\n",
        "      type_list.append(\"cv\")\n",
        "\n",
        "  return name_list, species_list, size_list, valores_list, medida_list, type_list\n"
      ],
      "metadata": {
        "id": "YOl5TEZSvzrN"
      },
      "execution_count": 24,
      "outputs": []
    },
    {
      "cell_type": "code",
      "source": [
        "name_list = []\n",
        "species_list = []\n",
        "size_list = []\n",
        "valores_list = []\n",
        "medida_list = []\n",
        "type_list = []"
      ],
      "metadata": {
        "id": "nKwX1s1PwsgH"
      },
      "execution_count": 25,
      "outputs": []
    },
    {
      "cell_type": "markdown",
      "source": [
        "### Setosa"
      ],
      "metadata": {
        "id": "YOzd4jJZwuxG"
      }
    },
    {
      "cell_type": "code",
      "source": [
        "species_name = 'setosa'\n",
        "df_aux = iris[iris['species'] == species_name].copy()\n",
        "\n",
        "\n",
        "name = 'sepal_length'\n",
        "df_data = df_aux[name].copy()\n",
        "name_list, species_list, size_list, valores_list, medida_list, type_list = make_animation_dataset(df_data, name, name_list, species_name, species_list, size_list, valores_list, medida_list, type_list)"
      ],
      "metadata": {
        "id": "IIxTWP7Aw0q0"
      },
      "execution_count": 26,
      "outputs": []
    },
    {
      "cell_type": "code",
      "source": [
        "name = 'sepal_width'\n",
        "df_data = df_aux[name].copy()\n",
        "name_list, species_list, size_list, valores_list, medida_list, type_list = make_animation_dataset(df_data, name, name_list, species_name, species_list, size_list, valores_list, medida_list, type_list)"
      ],
      "metadata": {
        "id": "fFtl1BvExXos"
      },
      "execution_count": 27,
      "outputs": []
    },
    {
      "cell_type": "code",
      "source": [
        "name = 'petal_length'\n",
        "df_data = df_aux[name].copy()\n",
        "name_list, species_list, size_list, valores_list, medida_list, type_list = make_animation_dataset(df_data, name, name_list, species_name, species_list, size_list, valores_list, medida_list, type_list)"
      ],
      "metadata": {
        "id": "QkNaYrInxfD9"
      },
      "execution_count": 28,
      "outputs": []
    },
    {
      "cell_type": "code",
      "source": [
        "name = 'petal_width'\n",
        "df_data = df_aux[name].copy()\n",
        "name_list, species_list, size_list, valores_list, medida_list, type_list = make_animation_dataset(df_data, name, name_list, species_name, species_list, size_list, valores_list, medida_list, type_list)"
      ],
      "metadata": {
        "id": "coUN6xHixXwe"
      },
      "execution_count": 29,
      "outputs": []
    },
    {
      "cell_type": "code",
      "source": [],
      "metadata": {
        "id": "ho6LVyIZxoeV"
      },
      "execution_count": 29,
      "outputs": []
    },
    {
      "cell_type": "markdown",
      "source": [
        "### virginica"
      ],
      "metadata": {
        "id": "MlUpvr85xq6h"
      }
    },
    {
      "cell_type": "code",
      "source": [
        "species_name = 'virginica'\n",
        "df_aux = iris[iris['species'] == species_name].copy()\n",
        "\n",
        "\n",
        "name = 'sepal_length'\n",
        "df_data = df_aux[name].copy()\n",
        "name_list, species_list, size_list, valores_list, medida_list, type_list = make_animation_dataset(df_data, name, name_list, species_name, species_list, size_list, valores_list, medida_list, type_list)"
      ],
      "metadata": {
        "id": "no4sBrHkxq6h"
      },
      "execution_count": 30,
      "outputs": []
    },
    {
      "cell_type": "code",
      "source": [
        "name = 'sepal_width'\n",
        "df_data = df_aux[name].copy()\n",
        "name_list, species_list, size_list, valores_list, medida_list, type_list = make_animation_dataset(df_data, name, name_list, species_name, species_list, size_list, valores_list, medida_list, type_list)"
      ],
      "metadata": {
        "id": "3IjrEbKvxq6h"
      },
      "execution_count": 31,
      "outputs": []
    },
    {
      "cell_type": "code",
      "source": [
        "name = 'petal_length'\n",
        "df_data = df_aux[name].copy()\n",
        "name_list, species_list, size_list, valores_list, medida_list, type_list = make_animation_dataset(df_data, name, name_list, species_name, species_list, size_list, valores_list, medida_list, type_list)"
      ],
      "metadata": {
        "id": "7wF8CaUBxq6h"
      },
      "execution_count": 32,
      "outputs": []
    },
    {
      "cell_type": "code",
      "source": [
        "name = 'petal_width'\n",
        "df_data = df_aux[name].copy()\n",
        "name_list, species_list, size_list, valores_list, medida_list, type_list = make_animation_dataset(df_data, name, name_list, species_name, species_list, size_list, valores_list, medida_list, type_list)"
      ],
      "metadata": {
        "id": "Gmmv7Ng8xq6h"
      },
      "execution_count": 33,
      "outputs": []
    },
    {
      "cell_type": "code",
      "source": [],
      "metadata": {
        "id": "dXItTySHxoo0"
      },
      "execution_count": 33,
      "outputs": []
    },
    {
      "cell_type": "markdown",
      "source": [
        "### versicolor"
      ],
      "metadata": {
        "id": "USdxyZ2Kxrkh"
      }
    },
    {
      "cell_type": "code",
      "source": [
        "species_name = 'versicolor'\n",
        "df_aux = iris[iris['species'] == species_name].copy()\n",
        "\n",
        "\n",
        "name = 'sepal_length'\n",
        "df_data = df_aux[name].copy()\n",
        "name_list, species_list, size_list, valores_list, medida_list, type_list = make_animation_dataset(df_data, name, name_list, species_name, species_list, size_list, valores_list, medida_list, type_list)"
      ],
      "metadata": {
        "id": "mc51qRT8xrki"
      },
      "execution_count": 34,
      "outputs": []
    },
    {
      "cell_type": "code",
      "source": [
        "name = 'sepal_width'\n",
        "df_data = df_aux[name].copy()\n",
        "name_list, species_list, size_list, valores_list, medida_list, type_list = make_animation_dataset(df_data, name, name_list, species_name, species_list, size_list, valores_list, medida_list, type_list)"
      ],
      "metadata": {
        "id": "NyHcGAwOxrki"
      },
      "execution_count": 35,
      "outputs": []
    },
    {
      "cell_type": "code",
      "source": [
        "name = 'petal_length'\n",
        "df_data = df_aux[name].copy()\n",
        "name_list, species_list, size_list, valores_list, medida_list, type_list = make_animation_dataset(df_data, name, name_list, species_name, species_list, size_list, valores_list, medida_list, type_list)"
      ],
      "metadata": {
        "id": "gAPnG96Lxrki"
      },
      "execution_count": 36,
      "outputs": []
    },
    {
      "cell_type": "code",
      "source": [
        "name = 'petal_width'\n",
        "df_data = df_aux[name].copy()\n",
        "name_list, species_list, size_list, valores_list, medida_list, type_list = make_animation_dataset(df_data, name, name_list, species_name, species_list, size_list, valores_list, medida_list, type_list)"
      ],
      "metadata": {
        "id": "EdmYvG9vxrki"
      },
      "execution_count": 37,
      "outputs": []
    },
    {
      "cell_type": "code",
      "source": [
        "new_df = pd.DataFrame({\n",
        "    'Tamanho amostral': size_list,\n",
        "    'kind': name_list,\n",
        "    'Medidas': medida_list,\n",
        "    \"Valores\": valores_list,\n",
        "    \"data_set\": \"iris\",\n",
        "    'species': species_list,\n",
        "    \"type\": type_list\n",
        "}) \n",
        "new_df.head()\n"
      ],
      "metadata": {
        "colab": {
          "base_uri": "https://localhost:8080/",
          "height": 206
        },
        "id": "mK41LC1dB9Lz",
        "outputId": "0db2e1ec-c5c7-40ea-a453-c92e4c72f186"
      },
      "execution_count": 39,
      "outputs": [
        {
          "output_type": "execute_result",
          "data": {
            "text/plain": [
              "   Tamanho amostral          kind        Medidas  Valores data_set species  \\\n",
              "0                 1  sepal_length          Média      5.1     iris  setosa   \n",
              "1                 1  sepal_length        Mediana      5.1     iris  setosa   \n",
              "2                 1  sepal_length  Desvio Padrão      0.0     iris  setosa   \n",
              "3                 1  sepal_length       IC (90%)      0.0     iris  setosa   \n",
              "4                 1  sepal_length       IC (95%)      0.0     iris  setosa   \n",
              "\n",
              "        type  \n",
              "0    central  \n",
              "1    central  \n",
              "2  dispersao  \n",
              "3  dispersao  \n",
              "4  dispersao  "
            ],
            "text/html": [
              "\n",
              "  <div id=\"df-9138f0bf-be11-4363-8cde-34dc16ef4f20\">\n",
              "    <div class=\"colab-df-container\">\n",
              "      <div>\n",
              "<style scoped>\n",
              "    .dataframe tbody tr th:only-of-type {\n",
              "        vertical-align: middle;\n",
              "    }\n",
              "\n",
              "    .dataframe tbody tr th {\n",
              "        vertical-align: top;\n",
              "    }\n",
              "\n",
              "    .dataframe thead th {\n",
              "        text-align: right;\n",
              "    }\n",
              "</style>\n",
              "<table border=\"1\" class=\"dataframe\">\n",
              "  <thead>\n",
              "    <tr style=\"text-align: right;\">\n",
              "      <th></th>\n",
              "      <th>Tamanho amostral</th>\n",
              "      <th>kind</th>\n",
              "      <th>Medidas</th>\n",
              "      <th>Valores</th>\n",
              "      <th>data_set</th>\n",
              "      <th>species</th>\n",
              "      <th>type</th>\n",
              "    </tr>\n",
              "  </thead>\n",
              "  <tbody>\n",
              "    <tr>\n",
              "      <th>0</th>\n",
              "      <td>1</td>\n",
              "      <td>sepal_length</td>\n",
              "      <td>Média</td>\n",
              "      <td>5.1</td>\n",
              "      <td>iris</td>\n",
              "      <td>setosa</td>\n",
              "      <td>central</td>\n",
              "    </tr>\n",
              "    <tr>\n",
              "      <th>1</th>\n",
              "      <td>1</td>\n",
              "      <td>sepal_length</td>\n",
              "      <td>Mediana</td>\n",
              "      <td>5.1</td>\n",
              "      <td>iris</td>\n",
              "      <td>setosa</td>\n",
              "      <td>central</td>\n",
              "    </tr>\n",
              "    <tr>\n",
              "      <th>2</th>\n",
              "      <td>1</td>\n",
              "      <td>sepal_length</td>\n",
              "      <td>Desvio Padrão</td>\n",
              "      <td>0.0</td>\n",
              "      <td>iris</td>\n",
              "      <td>setosa</td>\n",
              "      <td>dispersao</td>\n",
              "    </tr>\n",
              "    <tr>\n",
              "      <th>3</th>\n",
              "      <td>1</td>\n",
              "      <td>sepal_length</td>\n",
              "      <td>IC (90%)</td>\n",
              "      <td>0.0</td>\n",
              "      <td>iris</td>\n",
              "      <td>setosa</td>\n",
              "      <td>dispersao</td>\n",
              "    </tr>\n",
              "    <tr>\n",
              "      <th>4</th>\n",
              "      <td>1</td>\n",
              "      <td>sepal_length</td>\n",
              "      <td>IC (95%)</td>\n",
              "      <td>0.0</td>\n",
              "      <td>iris</td>\n",
              "      <td>setosa</td>\n",
              "      <td>dispersao</td>\n",
              "    </tr>\n",
              "  </tbody>\n",
              "</table>\n",
              "</div>\n",
              "      <button class=\"colab-df-convert\" onclick=\"convertToInteractive('df-9138f0bf-be11-4363-8cde-34dc16ef4f20')\"\n",
              "              title=\"Convert this dataframe to an interactive table.\"\n",
              "              style=\"display:none;\">\n",
              "        \n",
              "  <svg xmlns=\"http://www.w3.org/2000/svg\" height=\"24px\"viewBox=\"0 0 24 24\"\n",
              "       width=\"24px\">\n",
              "    <path d=\"M0 0h24v24H0V0z\" fill=\"none\"/>\n",
              "    <path d=\"M18.56 5.44l.94 2.06.94-2.06 2.06-.94-2.06-.94-.94-2.06-.94 2.06-2.06.94zm-11 1L8.5 8.5l.94-2.06 2.06-.94-2.06-.94L8.5 2.5l-.94 2.06-2.06.94zm10 10l.94 2.06.94-2.06 2.06-.94-2.06-.94-.94-2.06-.94 2.06-2.06.94z\"/><path d=\"M17.41 7.96l-1.37-1.37c-.4-.4-.92-.59-1.43-.59-.52 0-1.04.2-1.43.59L10.3 9.45l-7.72 7.72c-.78.78-.78 2.05 0 2.83L4 21.41c.39.39.9.59 1.41.59.51 0 1.02-.2 1.41-.59l7.78-7.78 2.81-2.81c.8-.78.8-2.07 0-2.86zM5.41 20L4 18.59l7.72-7.72 1.47 1.35L5.41 20z\"/>\n",
              "  </svg>\n",
              "      </button>\n",
              "      \n",
              "  <style>\n",
              "    .colab-df-container {\n",
              "      display:flex;\n",
              "      flex-wrap:wrap;\n",
              "      gap: 12px;\n",
              "    }\n",
              "\n",
              "    .colab-df-convert {\n",
              "      background-color: #E8F0FE;\n",
              "      border: none;\n",
              "      border-radius: 50%;\n",
              "      cursor: pointer;\n",
              "      display: none;\n",
              "      fill: #1967D2;\n",
              "      height: 32px;\n",
              "      padding: 0 0 0 0;\n",
              "      width: 32px;\n",
              "    }\n",
              "\n",
              "    .colab-df-convert:hover {\n",
              "      background-color: #E2EBFA;\n",
              "      box-shadow: 0px 1px 2px rgba(60, 64, 67, 0.3), 0px 1px 3px 1px rgba(60, 64, 67, 0.15);\n",
              "      fill: #174EA6;\n",
              "    }\n",
              "\n",
              "    [theme=dark] .colab-df-convert {\n",
              "      background-color: #3B4455;\n",
              "      fill: #D2E3FC;\n",
              "    }\n",
              "\n",
              "    [theme=dark] .colab-df-convert:hover {\n",
              "      background-color: #434B5C;\n",
              "      box-shadow: 0px 1px 3px 1px rgba(0, 0, 0, 0.15);\n",
              "      filter: drop-shadow(0px 1px 2px rgba(0, 0, 0, 0.3));\n",
              "      fill: #FFFFFF;\n",
              "    }\n",
              "  </style>\n",
              "\n",
              "      <script>\n",
              "        const buttonEl =\n",
              "          document.querySelector('#df-9138f0bf-be11-4363-8cde-34dc16ef4f20 button.colab-df-convert');\n",
              "        buttonEl.style.display =\n",
              "          google.colab.kernel.accessAllowed ? 'block' : 'none';\n",
              "\n",
              "        async function convertToInteractive(key) {\n",
              "          const element = document.querySelector('#df-9138f0bf-be11-4363-8cde-34dc16ef4f20');\n",
              "          const dataTable =\n",
              "            await google.colab.kernel.invokeFunction('convertToInteractive',\n",
              "                                                     [key], {});\n",
              "          if (!dataTable) return;\n",
              "\n",
              "          const docLinkHtml = 'Like what you see? Visit the ' +\n",
              "            '<a target=\"_blank\" href=https://colab.research.google.com/notebooks/data_table.ipynb>data table notebook</a>'\n",
              "            + ' to learn more about interactive tables.';\n",
              "          element.innerHTML = '';\n",
              "          dataTable['output_type'] = 'display_data';\n",
              "          await google.colab.output.renderOutput(dataTable, element);\n",
              "          const docLink = document.createElement('div');\n",
              "          docLink.innerHTML = docLinkHtml;\n",
              "          element.appendChild(docLink);\n",
              "        }\n",
              "      </script>\n",
              "    </div>\n",
              "  </div>\n",
              "  "
            ]
          },
          "metadata": {},
          "execution_count": 39
        }
      ]
    },
    {
      "cell_type": "code",
      "source": [
        "new_df.to_csv(\"iris_animation_dataset.csv\", index=False)"
      ],
      "metadata": {
        "id": "siKAsWTPEtTf"
      },
      "execution_count": 40,
      "outputs": []
    },
    {
      "cell_type": "code",
      "source": [],
      "metadata": {
        "id": "ooDyXic4e7sU"
      },
      "execution_count": null,
      "outputs": []
    }
  ]
}